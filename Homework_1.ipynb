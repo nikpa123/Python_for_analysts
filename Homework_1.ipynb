{
  "metadata": {
    "language_info": {
      "codemirror_mode": {
        "name": "python",
        "version": 3
      },
      "file_extension": ".py",
      "mimetype": "text/x-python",
      "name": "python",
      "nbconvert_exporter": "python",
      "pygments_lexer": "ipython3",
      "version": "3.8"
    },
    "kernelspec": {
      "name": "python",
      "display_name": "Python (Pyodide)",
      "language": "python"
    }
  },
  "nbformat_minor": 4,
  "nbformat": 4,
  "cells": [
    {
      "cell_type": "markdown",
      "source": "## Задание 1\nОформляйте ноутбук, используя эти советы:\n- Номер задачи - заголовок 2\n- Номер подзадачи - заголовок 3\n- Предоставленные наборы данных оформляйте, как код\n\n```Code```",
      "metadata": {}
    },
    {
      "cell_type": "markdown",
      "source": "## Задание 2",
      "metadata": {
        "tags": []
      }
    },
    {
      "cell_type": "markdown",
      "source": "На складе лежат разные фрукты в разном количестве.\nНужно написать функцию, которая на вход принимает любое количество названий фруктов и их количество, а возвращает общее количество фруктов на складе",
      "metadata": {}
    },
    {
      "cell_type": "code",
      "source": "def counting_fruits(**kwargs: int) -> int:\n    return sum(kwargs.values())\ncounting_fruits(apple = 5, orange = 3, banana = 10)",
      "metadata": {
        "trusted": true
      },
      "execution_count": 14,
      "outputs": [
        {
          "execution_count": 14,
          "output_type": "execute_result",
          "data": {
            "text/plain": "18"
          },
          "metadata": {}
        }
      ]
    },
    {
      "cell_type": "markdown",
      "source": "## Задание 3",
      "metadata": {
        "tags": []
      }
    },
    {
      "cell_type": "markdown",
      "source": "Дан список с затратами на рекламу. Но в данных есть ошибки, некоторые затраты имеют отрицательную величину. Удалите такие значения из списка и посчитайте суммарные затраты\n\n```[100, 125, -90, 345, 655, -1, 0, 200]```\n\nИспользуйте list comprehensions",
      "metadata": {}
    },
    {
      "cell_type": "code",
      "source": "original_ad_costs = [100, 125, -90, 345, 655, -1, 0, 200]\nad_costs = [i for i in original_ad_costs if i >= 0]\nad_costs",
      "metadata": {
        "trusted": true
      },
      "execution_count": 1,
      "outputs": [
        {
          "execution_count": 1,
          "output_type": "execute_result",
          "data": {
            "text/plain": "[100, 125, 345, 655, 0, 200]"
          },
          "metadata": {}
        }
      ]
    },
    {
      "cell_type": "markdown",
      "source": "## Задание 4",
      "metadata": {}
    },
    {
      "cell_type": "markdown",
      "source": "Даны два списка.\n\nДата покупки\n\n```['2021-09-14', '2021-12-15', '2021-09-08', '2021-12-05', '2021-10-09', '2021-09-30', '2021-12-22', '2021-11-29', '2021-12-24', '2021-11-26', '2021-10-27', '2021-12-18', '2021-11-09', '2021-11-23', '2021-09-27', '2021-10-02', '2021-12-27', '2021-09-20', '2021-12-13', '2021-11-01', '2021-11-09', '2021-12-06', '2021-12-08', '2021-10-09', '2021-10-31', '2021-09-30', '2021-11-09', '2021-12-13', '2021-10-26', '2021-12-09']```\n\nСуммы покупок по датам\n\n```[1270, 8413, 9028, 3703, 5739, 4095, 295, 4944, 5723, 3701, 4471, 651, 7037, 4274, 6275, 4988, 6930, 2971, 6592, 2004, 2822, 519, 3406, 2732, 5015, 2008, 316, 6333, 5700, 2887]```\n### 4.1 Найдите, какая выручка у компании в ноябре\nИспользуйте list comprehensions\n",
      "metadata": {}
    },
    {
      "cell_type": "code",
      "source": "date_purch = ['2021-09-14', '2021-12-15', '2021-09-08', '2021-12-05', '2021-10-09', '2021-09-30', '2021-12-22', '2021-11-29',\n              '2021-12-24', '2021-11-26', '2021-10-27', '2021-12-18', '2021-11-09', '2021-11-23', '2021-09-27', '2021-10-02',\n              '2021-12-27', '2021-09-20', '2021-12-13', '2021-11-01', '2021-11-09', '2021-12-06', '2021-12-08', '2021-10-09',\n              '2021-10-31', '2021-09-30', '2021-11-09', '2021-12-13', '2021-10-26', '2021-12-09']\npurch_sum = [1270, 8413, 9028, 3703, 5739, 4095, 295, 4944, 5723, 3701, 4471, 651, 7037, 4274, 6275, 4988, 6930, 2971, 6592, 2004,\n             2822, 519, 3406, 2732, 5015, 2008, 316, 6333, 5700, 2887]",
      "metadata": {},
      "execution_count": null,
      "outputs": []
    },
    {
      "cell_type": "code",
      "source": "revenue_november = [purch_sum[i] for i in range(len(date_purch)) if '2021-11' in date_purch[i]]\nsum(revenue_november)",
      "metadata": {
        "trusted": true
      },
      "execution_count": 58,
      "outputs": [
        {
          "execution_count": 58,
          "output_type": "execute_result",
          "data": {
            "text/plain": "25098"
          },
          "metadata": {}
        }
      ]
    },
    {
      "cell_type": "markdown",
      "source": "### 4.2 Найдите выручку компании в зависимости от месяца\nДля этого напишите функцию, которая на вход принимает список с датами и список с выручкой, а на выходе словарь, где ключи - это месяцы, а значения - это выручка.\n\nИспользуйте аннотирование типов.",
      "metadata": {
        "tags": []
      }
    },
    {
      "cell_type": "code",
      "source": "def revenue_month(date: list, purch: list) -> dict:\n    res_dict = {}\n    for i in range(len(date)):\n        if date[i][0:7] in res_dict.keys():\n            res_dict[date[i][0:7]] += purch[i]\n        else:\n            res_dict[date[i][0:7]] = purch[i]\n    return res_dict\nrevenue_month(date_purch, purch_sum)",
      "metadata": {
        "trusted": true
      },
      "execution_count": 66,
      "outputs": [
        {
          "execution_count": 66,
          "output_type": "execute_result",
          "data": {
            "text/plain": "{'2021-09': 25647, '2021-12': 45452, '2021-10': 28645, '2021-11': 25098}"
          },
          "metadata": {}
        }
      ]
    },
    {
      "cell_type": "code",
      "source": "date_purch[0].split('-')[1]\n# date_purch[0][0:7]",
      "metadata": {
        "trusted": true
      },
      "execution_count": 65,
      "outputs": [
        {
          "execution_count": 65,
          "output_type": "execute_result",
          "data": {
            "text/plain": "'09'"
          },
          "metadata": {}
        }
      ]
    },
    {
      "cell_type": "code",
      "source": "v = {'One': 1, 'Two': 2, 'Three': 3}\nv['One'] += 12\nv",
      "metadata": {
        "trusted": true
      },
      "execution_count": 57,
      "outputs": [
        {
          "execution_count": 57,
          "output_type": "execute_result",
          "data": {
            "text/plain": "{'One': 13, 'Two': 2, 'Three': 3}"
          },
          "metadata": {}
        }
      ]
    }
  ]
}